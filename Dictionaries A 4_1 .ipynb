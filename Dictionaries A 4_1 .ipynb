{
 "cells": [
  {
   "cell_type": "code",
   "execution_count": null,
   "metadata": {},
   "outputs": [],
   "source": [
    "alien_0 = {'color': 'green', 'points': 5} \n",
    "print(alien_0) \n",
    "\n",
    "alien_0['x_position'] = 0 \n",
    "alien_0['y_position'] = 25 \n",
    "print(alien_0) \n",
    "\n",
    "#6-1 \n",
    "facts = {\n",
    "    'Ezra': 'python'}\n",
    "\n",
    "print(\"Ezra, Hagen, 19, Sioux Falls + \n",
    "      ['Ezra'].title(Hagen, 19, Sioux Falls) + \n",
    "      \".\") \n"
   ]
  }
 ],
 "metadata": {
  "kernelspec": {
   "display_name": "Python 3",
   "language": "python",
   "name": "python3"
  },
  "language_info": {
   "codemirror_mode": {
    "name": "ipython",
    "version": 3
   },
   "file_extension": ".py",
   "mimetype": "text/x-python",
   "name": "python",
   "nbconvert_exporter": "python",
   "pygments_lexer": "ipython3",
   "version": "3.7.4"
  }
 },
 "nbformat": 4,
 "nbformat_minor": 2
}
