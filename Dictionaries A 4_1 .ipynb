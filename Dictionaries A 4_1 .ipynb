{
 "cells": [
  {
   "cell_type": "code",
   "execution_count": 2,
   "metadata": {},
   "outputs": [
    {
     "ename": "SyntaxError",
     "evalue": "EOL while scanning string literal (<ipython-input-2-3a2deeb3a5b2>, line 12)",
     "output_type": "error",
     "traceback": [
      "\u001b[1;36m  File \u001b[1;32m\"<ipython-input-2-3a2deeb3a5b2>\"\u001b[1;36m, line \u001b[1;32m12\u001b[0m\n\u001b[1;33m    print(\"Ezra, Hagen, 19, Sioux Falls +\u001b[0m\n\u001b[1;37m                                          ^\u001b[0m\n\u001b[1;31mSyntaxError\u001b[0m\u001b[1;31m:\u001b[0m EOL while scanning string literal\n"
     ]
    }
   ],
   "source": [
    "# Notes/Example \n",
    "alien_0 = {'color': 'green', 'points': 5} \n",
    "print(alien_0) \n",
    "\n",
    "alien_0['x_position'] = 0 \n",
    "alien_0['y_position'] = 25 \n",
    "print(alien_0) \n",
    "\n",
    "# 6-1 \n",
    "facts = {\n",
    "    'Ezra': 'python'}\n",
    "\n",
    "print(\"Ezra, Hagen, 19, Sioux Falls + \n",
    "      ['Ezra'].title(Hagen, 19, Sioux Falls) + \".\") \n",
    "Ezra Hagen, 19, lives in Sioux Falls \n"
   ]
  },
  {
   "cell_type": "code",
   "execution_count": 3,
   "metadata": {},
   "outputs": [
    {
     "ename": "SyntaxError",
     "evalue": "invalid syntax (<ipython-input-3-b2f58a40ed96>, line 3)",
     "output_type": "error",
     "traceback": [
      "\u001b[1;36m  File \u001b[1;32m\"<ipython-input-3-b2f58a40ed96>\"\u001b[1;36m, line \u001b[1;32m3\u001b[0m\n\u001b[1;33m    print (Ezra, Dray, David, Riley, and Tanner\u001b[0m\n\u001b[1;37m                                       ^\u001b[0m\n\u001b[1;31mSyntaxError\u001b[0m\u001b[1;31m:\u001b[0m invalid syntax\n"
     ]
    }
   ],
   "source": [
    "# 6-2 \n",
    "\n",
    "print (Ezra, Dray, David, Riley, and Tanner\n",
    "      ['Ezra'].title(19) ['Dray'].title(17) ['David'].title(17) ['Riley'].title(16) ['Tanner'].title(18) \n",
    "       Ezra, Dray, David, Riley, and Tanner favorite numbers are 19, 17, 17, 16, and 18 \n",
    "       \n",
    "# 6-3 \n",
    "definitions = {   \n",
    "def Loop- When the program runs many things in a certain time \n",
    "def Python- Program that we are using \n",
    "def Medium- Speed moves two units to the right \n",
    "def Slow- Speed moves one unit to the right \n",
    "def Key Value Pair- A set of values associated with each other} \n",
    "\n",
    "print (Loop, Python, Medium, Slow, and Key Value )\n",
    "print (Definitions )"
   ]
  },
  {
   "cell_type": "code",
   "execution_count": 4,
   "metadata": {},
   "outputs": [
    {
     "ename": "SyntaxError",
     "evalue": "invalid syntax (<ipython-input-4-f12d9ed8f9cd>, line 2)",
     "output_type": "error",
     "traceback": [
      "\u001b[1;36m  File \u001b[1;32m\"<ipython-input-4-f12d9ed8f9cd>\"\u001b[1;36m, line \u001b[1;32m2\u001b[0m\n\u001b[1;33m    definitions = {Loop, Python, Medium, Slow, and Key Value Pair}\u001b[0m\n\u001b[1;37m                                                 ^\u001b[0m\n\u001b[1;31mSyntaxError\u001b[0m\u001b[1;31m:\u001b[0m invalid syntax\n"
     ]
    }
   ],
   "source": [
    "# 6-4 \n",
    "definitions = {Loop, Python, Medium, Slow, and Key Value Pair}\n",
    "print (definitions())"
   ]
  },
  {
   "cell_type": "code",
   "execution_count": 5,
   "metadata": {},
   "outputs": [
    {
     "ename": "SyntaxError",
     "evalue": "invalid syntax (<ipython-input-5-f9e4be910609>, line 10)",
     "output_type": "error",
     "traceback": [
      "\u001b[1;36m  File \u001b[1;32m\"<ipython-input-5-f9e4be910609>\"\u001b[1;36m, line \u001b[1;32m10\u001b[0m\n\u001b[1;33m    def loop (\"The Nile River runs through Egypt\", \"The Congo River runs through Africa\", \"The Tigris River runs through Asia\")\u001b[0m\n\u001b[1;37m                                                ^\u001b[0m\n\u001b[1;31mSyntaxError\u001b[0m\u001b[1;31m:\u001b[0m invalid syntax\n"
     ]
    }
   ],
   "source": [
    "# 6-5 \n",
    "\n",
    "'Nile': 'Egypt' \n",
    "'Congo': 'Africa' \n",
    "'Tigris': 'Asia' \n",
    "\n",
    "print (\"The Nile River runs through Egypt\") \n",
    "print (\"The Congo River runs through Africa\") \n",
    "print (\"The Tigris River runs through Asia\") \n",
    "def loop (\"The Nile River runs through Egypt\", \"The Congo River runs through Africa\", \"The Tigris River runs through Asia\") "
   ]
  },
  {
   "cell_type": "code",
   "execution_count": 6,
   "metadata": {},
   "outputs": [
    {
     "ename": "SyntaxError",
     "evalue": "invalid syntax (<ipython-input-6-9c25caa6f119>, line 9)",
     "output_type": "error",
     "traceback": [
      "\u001b[1;36m  File \u001b[1;32m\"<ipython-input-6-9c25caa6f119>\"\u001b[1;36m, line \u001b[1;32m9\u001b[0m\n\u001b[1;33m    def loop {'Ezra', 'Dray', 'David', 'Riley', 'Tanner' }\u001b[0m\n\u001b[1;37m             ^\u001b[0m\n\u001b[1;31mSyntaxError\u001b[0m\u001b[1;31m:\u001b[0m invalid syntax\n"
     ]
    }
   ],
   "source": [
    "# 6-6 \n",
    "favorite_numbers = {\n",
    "     'Ezra': '19', \n",
    "      'Dray': '17', \n",
    "     'David': '17', \n",
    "     'Riley': '16', \n",
    "     'Tanner': '18',\n",
    "     'Jesse':  '214', \n",
    "} \n",
    "def loop {'Ezra', 'Dray', 'David', 'Riley', 'Tanner', 'Jesse' } "
   ]
  },
  {
   "cell_type": "code",
   "execution_count": 7,
   "metadata": {},
   "outputs": [
    {
     "name": "stdout",
     "output_type": "stream",
     "text": [
      "Ezra Dray David Riley Tanner Jesse\n",
      "{'Ezra': 'Does not like to work', 'Dray': 'Dray likes coding', 'David': 'David does not enjoy school', 'Riley': 'Riley likes anime', 'Jesse': 'Jesse likes video games'}\n"
     ]
    }
   ],
   "source": [
    "# 6-7 \n",
    "\n",
    "people = {\n",
    "    'Ezra': 'Does not like to work', \n",
    "    'Dray': 'Dray likes coding', \n",
    "    'David': 'David does not enjoy school', \n",
    "    'Riley': 'Riley likes anime', \n",
    "    'Jesse': 'Jesse likes video games',\n",
    "}\n",
    "print ('Ezra', 'Dray', 'David', 'Riley', 'Tanner', 'Jesse') \n",
    "print (people) "
   ]
  },
  {
   "cell_type": "code",
   "execution_count": 8,
   "metadata": {},
   "outputs": [
    {
     "name": "stdout",
     "output_type": "stream",
     "text": [
      "Ezra Dray Riley\n",
      "{'Ezra': 'Japan', 'Dray': 'Iowa', 'Riley': 'Japan'}\n"
     ]
    }
   ],
   "source": [
    "# 6-9 \n",
    "\n",
    "favorite_places = {\n",
    "    'Ezra': 'Japan', \n",
    "    'Dray': 'Iowa',\n",
    "    'Riley': 'Japan',\n",
    "} \n",
    "\n",
    "print ('Ezra', 'Dray', 'Riley') \n",
    "print (favorite_places) \n"
   ]
  },
  {
   "cell_type": "code",
   "execution_count": null,
   "metadata": {},
   "outputs": [],
   "source": []
  }
 ],
 "metadata": {
  "kernelspec": {
   "display_name": "Python 3",
   "language": "python",
   "name": "python3"
  },
  "language_info": {
   "codemirror_mode": {
    "name": "ipython",
    "version": 3
   },
   "file_extension": ".py",
   "mimetype": "text/x-python",
   "name": "python",
   "nbconvert_exporter": "python",
   "pygments_lexer": "ipython3",
   "version": "3.7.4"
  }
 },
 "nbformat": 4,
 "nbformat_minor": 2
}
