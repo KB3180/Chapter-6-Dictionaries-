{
 "cells": [
  {
   "cell_type": "code",
   "execution_count": null,
   "metadata": {},
   "outputs": [],
   "source": [
    "# 6-9 \n",
    "\n",
    "favorite_places = {\n",
    "    'Ezra': 'Japan', \n",
    "    'Dray': 'Iowa',\n",
    "    'Riley': 'Japan',\n",
    "} \n",
    "\n",
    "print ('Ezra', 'Dray', 'Riley') \n",
    "print (favorite_places) \n"
   ]
  }
 ],
 "metadata": {
  "kernelspec": {
   "display_name": "Python 3",
   "language": "python",
   "name": "python3"
  },
  "language_info": {
   "codemirror_mode": {
    "name": "ipython",
    "version": 3
   },
   "file_extension": ".py",
   "mimetype": "text/x-python",
   "name": "python",
   "nbconvert_exporter": "python",
   "pygments_lexer": "ipython3",
   "version": "3.7.4"
  }
 },
 "nbformat": 4,
 "nbformat_minor": 2
}
